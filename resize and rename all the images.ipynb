{
 "cells": [
  {
   "cell_type": "code",
   "execution_count": 6,
   "metadata": {},
   "outputs": [
    {
     "name": "stdout",
     "output_type": "stream",
     "text": [
      "<class 'numpy.ndarray'>\n",
      "(640, 640, 3)\n",
      "<class 'tuple'>\n"
     ]
    }
   ],
   "source": [
    "import cv2\n",
    "\n",
    "im = cv2.imread('nonhijabi/15.JPG')\n",
    "\n",
    "print(type(im))\n",
    "\n",
    "\n",
    "print(im.shape)\n",
    "print(type(im.shape))\n"
   ]
  },
  {
   "cell_type": "code",
   "execution_count": 7,
   "metadata": {},
   "outputs": [
    {
     "name": "stdout",
     "output_type": "stream",
     "text": [
      "width:   640\n",
      "height:  640\n",
      "channel: 3\n"
     ]
    }
   ],
   "source": [
    "h, w, c = im.shape\n",
    "print('width:  ', w)\n",
    "print('height: ', h)\n",
    "print('channel:', c)"
   ]
  },
  {
   "cell_type": "code",
   "execution_count": 9,
   "metadata": {},
   "outputs": [
    {
     "name": "stdout",
     "output_type": "stream",
     "text": [
      "nonhijabi\\01.jpg\n",
      "nonhijabi\\02.jpg\n",
      "nonhijabi\\03.jpg\n",
      "nonhijabi\\04.jpg\n",
      "nonhijabi\\05.jpg\n",
      "nonhijabi\\06.jpg\n",
      "nonhijabi\\07.jpg\n",
      "nonhijabi\\09.jpg\n",
      "nonhijabi\\10.jpg\n",
      "nonhijabi\\11.jpg\n",
      "nonhijabi\\12.jpg\n",
      "nonhijabi\\13.jpg\n",
      "nonhijabi\\14.jpg\n",
      "nonhijabi\\15.jpg\n",
      "nonhijabi\\16.jpg\n",
      "nonhijabi\\17.jpg\n",
      "nonhijabi\\18.jpg\n",
      "nonhijabi\\19.jpg\n",
      "nonhijabi\\20.jpg\n",
      "nonhijabi\\21.jpg\n",
      "nonhijabi\\22.jpg\n",
      "nonhijabi\\23.jpg\n",
      "nonhijabi\\24.jpg\n",
      "nonhijabi\\25.jpg\n",
      "nonhijabi\\26.jpg\n",
      "nonhijabi\\27.jpg\n",
      "nonhijabi\\28.jpg\n",
      "nonhijabi\\29.jpg\n",
      "nonhijabi\\30.jpg\n",
      "nonhijabi\\31.jpg\n",
      "nonhijabi\\32.jpg\n",
      "nonhijabi\\33.jpg\n",
      "nonhijabi\\34.jpg\n",
      "nonhijabi\\35.jpg\n",
      "nonhijabi\\36.jpg\n",
      "nonhijabi\\38.jpg\n",
      "nonhijabi\\39.jpg\n",
      "nonhijabi\\40.jpg\n",
      "nonhijabi\\41.jpg\n",
      "nonhijabi\\42.jpg\n",
      "nonhijabi\\43.jpg\n",
      "nonhijabi\\44.jpg\n",
      "nonhijabi\\45.jpg\n",
      "nonhijabi\\46.jpg\n",
      "nonhijabi\\47.jpg\n",
      "nonhijabi\\48.jpg\n",
      "nonhijabi\\49.jpg\n",
      "nonhijabi\\50.jpg\n",
      "nonhijabi\\51.jpg\n",
      "nonhijabi\\52.jpg\n",
      "nonhijabi\\53.jpg\n",
      "nonhijabi\\54.jpg\n",
      "nonhijabi\\55.jpg\n",
      "nonhijabi\\56.JPG\n",
      "nonhijabi\\57.jpg\n",
      "nonhijabi\\58.jpg\n",
      "nonhijabi\\59.jpg\n",
      "nonhijabi\\60.jpg\n",
      "nonhijabi\\61.jpg\n",
      "nonhijabi\\62.jpg\n",
      "nonhijabi\\63.jpg\n",
      "nonhijabi\\64.jpg\n",
      "nonhijabi\\65.jpg\n",
      "nonhijabi\\66.jpg\n",
      "nonhijabi\\67.jpg\n",
      "nonhijabi\\68.jpg\n",
      "nonhijabi\\69.jpg\n",
      "nonhijabi\\70.jpg\n",
      "nonhijabi\\71.jpg\n",
      "nonhijabi\\72.jpg\n",
      "nonhijabi\\73.jpg\n",
      "nonhijabi\\74.jpg\n",
      "nonhijabi\\75.jpg\n",
      "nonhijabi\\76.jpg\n",
      "nonhijabi\\77.jpg\n",
      "nonhijabi\\78.jpg\n",
      "nonhijabi\\79.jpg\n",
      "nonhijabi\\80.jpg\n",
      "nonhijabi\\82.jpg\n",
      "nonhijabi\\84.jpg\n"
     ]
    }
   ],
   "source": [
    "from PIL import Image\n",
    "import glob\n",
    "\n",
    "image_list = []\n",
    "resized_images = []\n",
    "\n",
    "for filename in glob.glob('nonhijabi\\\\*.jpg'):\n",
    "    print(filename)\n",
    "    img = Image.open(filename)\n",
    "    image_list.append(img)\n",
    "\n",
    "for image in image_list:\n",
    "    image = image.resize((256, 256))\n",
    "    resized_images.append(image)\n",
    "\n",
    "for (i, new) in enumerate(resized_images):\n",
    "    new.save('{}{}{}'.format('nonhijabi\\\\', i+1, '_.jpg',))\n",
    "    \n"
   ]
  },
  {
   "cell_type": "code",
   "execution_count": 11,
   "metadata": {},
   "outputs": [
    {
     "name": "stdout",
     "output_type": "stream",
     "text": [
      "<class 'numpy.ndarray'>\n",
      "(256, 256, 3)\n",
      "<class 'tuple'>\n"
     ]
    }
   ],
   "source": [
    "import cv2\n",
    "\n",
    "im = cv2.imread('resized_image/CHOUKA/18_CHANDA.jpg')\n",
    "\n",
    "print(type(im))\n",
    "\n",
    "\n",
    "print(im.shape)\n",
    "print(type(im.shape))\n"
   ]
  },
  {
   "cell_type": "code",
   "execution_count": null,
   "metadata": {},
   "outputs": [],
   "source": []
  }
 ],
 "metadata": {
  "kernelspec": {
   "display_name": "Python 3",
   "language": "python",
   "name": "python3"
  },
  "language_info": {
   "codemirror_mode": {
    "name": "ipython",
    "version": 3
   },
   "file_extension": ".py",
   "mimetype": "text/x-python",
   "name": "python",
   "nbconvert_exporter": "python",
   "pygments_lexer": "ipython3",
   "version": "3.8.5"
  }
 },
 "nbformat": 4,
 "nbformat_minor": 4
}
